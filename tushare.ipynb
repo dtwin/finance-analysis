{
 "cells": [
  {
   "cell_type": "code",
   "execution_count": 1,
   "metadata": {},
   "outputs": [],
   "source": [
    "import tushare as ts\n",
    "df = ts.get_hist_data('000002',start='2019-01-01',end='2020-06-04')"
   ]
  },
  {
   "cell_type": "code",
   "execution_count": 3,
   "metadata": {},
   "outputs": [],
   "source": [
    "df = ts.get_hist_data('000002',start='2019-01-01',end='2020-06-04',ktype='5')"
   ]
  },
  {
   "cell_type": "code",
   "execution_count": 13,
   "metadata": {},
   "outputs": [],
   "source": [
    "df = ts.get_realtime_quotes(['000002','000980','000981'])\n",
    "df = df[['code','name','price','bid','ask','volume','amount','time']]"
   ]
  },
  {
   "cell_type": "code",
   "execution_count": 19,
   "metadata": {},
   "outputs": [
    {
     "name": "stdout",
     "output_type": "stream",
     "text": [
      "http://stock.gtimg.cn/data/index.php?appn=detail&action=download&c=sz000002&d=20200604\n"
     ]
    }
   ],
   "source": [
    "df = ts.get_tick_data('000002',date='2020-06-04',src='tt')#该天历史分笔数据"
   ]
  },
  {
   "cell_type": "code",
   "execution_count": 22,
   "metadata": {},
   "outputs": [],
   "source": [
    "df = ts.get_today_ticks('000002')"
   ]
  },
  {
   "cell_type": "code",
   "execution_count": 23,
   "metadata": {},
   "outputs": [
    {
     "data": {
      "text/html": [
       "<div>\n",
       "<style scoped>\n",
       "    .dataframe tbody tr th:only-of-type {\n",
       "        vertical-align: middle;\n",
       "    }\n",
       "\n",
       "    .dataframe tbody tr th {\n",
       "        vertical-align: top;\n",
       "    }\n",
       "\n",
       "    .dataframe thead th {\n",
       "        text-align: right;\n",
       "    }\n",
       "</style>\n",
       "<table border=\"1\" class=\"dataframe\">\n",
       "  <thead>\n",
       "    <tr style=\"text-align: right;\">\n",
       "      <th></th>\n",
       "      <th>time</th>\n",
       "      <th>price</th>\n",
       "      <th>vol</th>\n",
       "      <th>type</th>\n",
       "    </tr>\n",
       "  </thead>\n",
       "  <tbody>\n",
       "    <tr>\n",
       "      <th>0</th>\n",
       "      <td>092518</td>\n",
       "      <td>3064.098</td>\n",
       "      <td>3274070</td>\n",
       "      <td>卖出</td>\n",
       "    </tr>\n",
       "    <tr>\n",
       "      <th>1</th>\n",
       "      <td>093003</td>\n",
       "      <td>3064.098</td>\n",
       "      <td>621270</td>\n",
       "      <td>卖出</td>\n",
       "    </tr>\n",
       "    <tr>\n",
       "      <th>2</th>\n",
       "      <td>093008</td>\n",
       "      <td>3063.657</td>\n",
       "      <td>2172604</td>\n",
       "      <td>买入</td>\n",
       "    </tr>\n",
       "    <tr>\n",
       "      <th>3</th>\n",
       "      <td>093013</td>\n",
       "      <td>3063.819</td>\n",
       "      <td>481443</td>\n",
       "      <td>卖出</td>\n",
       "    </tr>\n",
       "    <tr>\n",
       "      <th>4</th>\n",
       "      <td>093018</td>\n",
       "      <td>3063.918</td>\n",
       "      <td>322552</td>\n",
       "      <td>卖出</td>\n",
       "    </tr>\n",
       "    <tr>\n",
       "      <th>...</th>\n",
       "      <td>...</td>\n",
       "      <td>...</td>\n",
       "      <td>...</td>\n",
       "      <td>...</td>\n",
       "    </tr>\n",
       "    <tr>\n",
       "      <th>1437</th>\n",
       "      <td>112943</td>\n",
       "      <td>3052.193</td>\n",
       "      <td>64341</td>\n",
       "      <td>卖出</td>\n",
       "    </tr>\n",
       "    <tr>\n",
       "      <th>1438</th>\n",
       "      <td>112948</td>\n",
       "      <td>3052.121</td>\n",
       "      <td>47174</td>\n",
       "      <td>买入</td>\n",
       "    </tr>\n",
       "    <tr>\n",
       "      <th>1439</th>\n",
       "      <td>112953</td>\n",
       "      <td>3051.924</td>\n",
       "      <td>47310</td>\n",
       "      <td>买入</td>\n",
       "    </tr>\n",
       "    <tr>\n",
       "      <th>1440</th>\n",
       "      <td>112958</td>\n",
       "      <td>3051.952</td>\n",
       "      <td>56384</td>\n",
       "      <td>卖出</td>\n",
       "    </tr>\n",
       "    <tr>\n",
       "      <th>1441</th>\n",
       "      <td>113003</td>\n",
       "      <td>3051.870</td>\n",
       "      <td>29887</td>\n",
       "      <td>买入</td>\n",
       "    </tr>\n",
       "  </tbody>\n",
       "</table>\n",
       "<p>1442 rows × 4 columns</p>\n",
       "</div>"
      ],
      "text/plain": [
       "        time     price      vol type\n",
       "0     092518  3064.098  3274070   卖出\n",
       "1     093003  3064.098   621270   卖出\n",
       "2     093008  3063.657  2172604   买入\n",
       "3     093013  3063.819   481443   卖出\n",
       "4     093018  3063.918   322552   卖出\n",
       "...      ...       ...      ...  ...\n",
       "1437  112943  3052.193    64341   卖出\n",
       "1438  112948  3052.121    47174   买入\n",
       "1439  112953  3051.924    47310   买入\n",
       "1440  112958  3051.952    56384   卖出\n",
       "1441  113003  3051.870    29887   买入\n",
       "\n",
       "[1442 rows x 4 columns]"
      ]
     },
     "execution_count": 23,
     "metadata": {},
     "output_type": "execute_result"
    }
   ],
   "source": [
    "df"
   ]
  },
  {
   "cell_type": "code",
   "execution_count": 25,
   "metadata": {},
   "outputs": [
    {
     "ename": "ModuleNotFoundError",
     "evalue": "No module named 'selenium'",
     "output_type": "error",
     "traceback": [
      "\u001b[0;31m---------------------------------------------------------------------------\u001b[0m",
      "\u001b[0;31mModuleNotFoundError\u001b[0m                       Traceback (most recent call last)",
      "\u001b[0;32m<ipython-input-25-93833772b63f>\u001b[0m in \u001b[0;36m<module>\u001b[0;34m\u001b[0m\n\u001b[0;32m----> 1\u001b[0;31m \u001b[0;32mfrom\u001b[0m \u001b[0mselenium\u001b[0m \u001b[0;32mimport\u001b[0m \u001b[0mwebdriver\u001b[0m\u001b[0;34m\u001b[0m\u001b[0;34m\u001b[0m\u001b[0m\n\u001b[0m",
      "\u001b[0;31mModuleNotFoundError\u001b[0m: No module named 'selenium'"
     ]
    }
   ],
   "source": [
    "from selenium import webdriver"
   ]
  },
  {
   "cell_type": "code",
   "execution_count": null,
   "metadata": {},
   "outputs": [],
   "source": []
  }
 ],
 "metadata": {
  "kernelspec": {
   "display_name": "Python 3",
   "language": "python",
   "name": "python3"
  },
  "language_info": {
   "codemirror_mode": {
    "name": "ipython",
    "version": 3
   },
   "file_extension": ".py",
   "mimetype": "text/x-python",
   "name": "python",
   "nbconvert_exporter": "python",
   "pygments_lexer": "ipython3",
   "version": "3.7.6"
  }
 },
 "nbformat": 4,
 "nbformat_minor": 4
}
